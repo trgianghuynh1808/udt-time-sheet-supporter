{
 "cells": [
  {
   "cell_type": "code",
   "execution_count": 1,
   "metadata": {},
   "outputs": [
    {
     "name": "stdout",
     "output_type": "stream",
     "text": [
      "test values [['STT', 'Title', 'Content', 'Status'], ['1', 'HR-123 | test log time', '* Test log time sheet /n']]\n"
     ]
    }
   ],
   "source": [
    "from __future__ import print_function\n",
    "\n",
    "from googleapiclient.errors import HttpError\n",
    "from authentication import googleSheetConnect\n",
    "from sheet import *\n",
    "\n",
    "\n",
    "\n",
    "\n",
    "def main():\n",
    "    credentials = googleSheetConnect()\n",
    "    \n",
    "    try:\n",
    "        sheetValues = getSheetValues(credentials)\n",
    "        sheetData = readSheet(sheetValues)\n",
    "\n",
    "        if not sheetData:\n",
    "            print('No data found.')\n",
    "            return\n",
    "        print(\"test values\",sheetData)\n",
    "    except HttpError as error:\n",
    "        print(error)\n",
    "\n",
    "if __name__ == '__main__':\n",
    "    main()\n"
   ]
  }
 ],
 "metadata": {
  "kernelspec": {
   "display_name": "Python 3",
   "language": "python",
   "name": "python3"
  },
  "language_info": {
   "codemirror_mode": {
    "name": "ipython",
    "version": 3
   },
   "file_extension": ".py",
   "mimetype": "text/x-python",
   "name": "python",
   "nbconvert_exporter": "python",
   "pygments_lexer": "ipython3",
   "version": "3.11.2"
  },
  "orig_nbformat": 4
 },
 "nbformat": 4,
 "nbformat_minor": 2
}
