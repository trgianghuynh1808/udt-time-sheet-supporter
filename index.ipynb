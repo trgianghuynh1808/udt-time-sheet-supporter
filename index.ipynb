{
 "cells": [
  {
   "cell_type": "code",
   "execution_count": 1,
   "metadata": {},
   "outputs": [
    {
     "name": "stdout",
     "output_type": "stream",
     "text": [
      "response {'spreadsheetId': '1VGWsZ7xiFYmpsPbCrm00gwsjmxcuzbZwZJT3CbTr54I', 'updatedRange': 'timesheet!G2', 'updatedRows': 1, 'updatedColumns': 1, 'updatedCells': 1}\n",
      "test values [['title', 'content', 'project', 'start_time', 'end_time', 'time_total'], ['HR-123 | test log time', '* Test log time sheet\\n* Test 123 123', 'HR', '29/03/2023 14:55:00', '29/03/2023 20:00:00', '5:05:00']]\n"
     ]
    }
   ],
   "source": [
    "from __future__ import print_function\n",
    "\n",
    "from googleapiclient.errors import HttpError\n",
    "from authentication import googleSheetConnect\n",
    "from sheet import *\n",
    "\n",
    "\n",
    "def main():\n",
    "    credentials = googleSheetConnect()\n",
    "    sheet_service = SheetService(credentials)\n",
    "    \n",
    "    try:\n",
    "        sheet_data = sheet_service.readSheet()\n",
    "        response = sheet_service.writeSheet(range=\"timesheet!G2\", body_data=[[\"x\"]])\n",
    "\n",
    "        print(\"response\", response)\n",
    "       \n",
    "        if not sheet_data:\n",
    "            print('No data found.')\n",
    "            return\n",
    "        print(\"test values\",sheet_data)\n",
    "    except HttpError as error:\n",
    "        print(error)\n",
    "\n",
    "if __name__ == '__main__':\n",
    "    main()\n"
   ]
  }
 ],
 "metadata": {
  "kernelspec": {
   "display_name": "Python 3",
   "language": "python",
   "name": "python3"
  },
  "language_info": {
   "codemirror_mode": {
    "name": "ipython",
    "version": 3
   },
   "file_extension": ".py",
   "mimetype": "text/x-python",
   "name": "python",
   "nbconvert_exporter": "python",
   "pygments_lexer": "ipython3",
   "version": "3.11.2"
  },
  "orig_nbformat": 4
 },
 "nbformat": 4,
 "nbformat_minor": 2
}
